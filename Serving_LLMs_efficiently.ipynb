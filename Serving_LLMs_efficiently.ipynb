{
 "cells": [
  {
   "cell_type": "code",
   "execution_count": 62,
   "id": "39063d53-ac0c-4094-9386-988341b06bcb",
   "metadata": {},
   "outputs": [],
   "source": [
    "import matplotlib.pyplot as plt\n",
    "import numpy as np\n",
    "import time\n",
    "import torch\n",
    "import torch.nn.functional as F\n",
    "from transformers import AutoModelForCausalLM, AutoTokenizer\n",
    "from tqdm import tqdm\n",
    "import copy\n",
    "import random\n"
   ]
  },
  {
   "cell_type": "code",
   "execution_count": 6,
   "id": "55adb58f-514a-4705-8184-cf8487c89433",
   "metadata": {},
   "outputs": [
    {
     "name": "stderr",
     "output_type": "stream",
     "text": [
      "C:\\Users\\raque\\AppData\\Local\\Programs\\Python\\Python311\\Lib\\site-packages\\huggingface_hub\\file_download.py:157: UserWarning: `huggingface_hub` cache-system uses symlinks by default to efficiently store duplicated files but your machine does not support them in C:\\Users\\raque\\.cache\\huggingface\\hub\\models--gpt2. Caching files will still work but in a degraded version that might require more space on your disk. This warning can be disabled by setting the `HF_HUB_DISABLE_SYMLINKS_WARNING` environment variable. For more details, see https://huggingface.co/docs/huggingface_hub/how-to-cache#limitations.\n",
      "To support symlinks on Windows, you either need to activate Developer Mode or to run Python as an administrator. In order to see activate developer mode, see this article: https://docs.microsoft.com/en-us/windows/apps/get-started/enable-your-device-for-development\n",
      "  warnings.warn(message)\n"
     ]
    }
   ],
   "source": [
    "model_name = \"gpt2\"\n",
    "tokenizer = AutoTokenizer.from_pretrained(model_name)\n",
    "model = AutoModelForCausalLM.from_pretrained(model_name)"
   ]
  },
  {
   "cell_type": "code",
   "execution_count": 7,
   "id": "34f73522-c3d5-4a7f-b3a5-a85a5e28f14b",
   "metadata": {},
   "outputs": [
    {
     "name": "stdout",
     "output_type": "stream",
     "text": [
      "GPT2LMHeadModel(\n",
      "  (transformer): GPT2Model(\n",
      "    (wte): Embedding(50257, 768)\n",
      "    (wpe): Embedding(1024, 768)\n",
      "    (drop): Dropout(p=0.1, inplace=False)\n",
      "    (h): ModuleList(\n",
      "      (0-11): 12 x GPT2Block(\n",
      "        (ln_1): LayerNorm((768,), eps=1e-05, elementwise_affine=True)\n",
      "        (attn): GPT2Attention(\n",
      "          (c_attn): Conv1D()\n",
      "          (c_proj): Conv1D()\n",
      "          (attn_dropout): Dropout(p=0.1, inplace=False)\n",
      "          (resid_dropout): Dropout(p=0.1, inplace=False)\n",
      "        )\n",
      "        (ln_2): LayerNorm((768,), eps=1e-05, elementwise_affine=True)\n",
      "        (mlp): GPT2MLP(\n",
      "          (c_fc): Conv1D()\n",
      "          (c_proj): Conv1D()\n",
      "          (act): NewGELUActivation()\n",
      "          (dropout): Dropout(p=0.1, inplace=False)\n",
      "        )\n",
      "      )\n",
      "    )\n",
      "    (ln_f): LayerNorm((768,), eps=1e-05, elementwise_affine=True)\n",
      "  )\n",
      "  (lm_head): Linear(in_features=768, out_features=50257, bias=False)\n",
      ")\n"
     ]
    }
   ],
   "source": [
    "print(model)"
   ]
  },
  {
   "cell_type": "code",
   "execution_count": 8,
   "id": "0f7345bd-7a66-4ec4-817d-104ed721df48",
   "metadata": {},
   "outputs": [
    {
     "data": {
      "text/plain": [
       "{'input_ids': tensor([[  464,  2068,  7586, 21831, 11687,   625,   262]]), 'attention_mask': tensor([[1, 1, 1, 1, 1, 1, 1]])}"
      ]
     },
     "execution_count": 8,
     "metadata": {},
     "output_type": "execute_result"
    }
   ],
   "source": [
    "prompt = \"The quick brown fox jumped over the\"\n",
    "inputs = tokenizer(prompt, return_tensors=\"pt\")\n",
    "inputs"
   ]
  },
  {
   "cell_type": "code",
   "execution_count": 10,
   "id": "a52498da-8b69-4d6f-9552-093bf01d8b37",
   "metadata": {},
   "outputs": [
    {
     "name": "stdout",
     "output_type": "stream",
     "text": [
      "torch.Size([1, 7, 50257])\n"
     ]
    }
   ],
   "source": [
    "with torch.no_grad():\n",
    "    outputs = model(**inputs)\n",
    "\n",
    "logits = outputs.logits\n",
    "print(logits.shape)"
   ]
  },
  {
   "cell_type": "code",
   "execution_count": 11,
   "id": "c5b43b29-1b03-4483-8c4b-91eb9e76bdcc",
   "metadata": {},
   "outputs": [],
   "source": [
    "# 50257 the vocabulary size how many tokens it can generate"
   ]
  },
  {
   "cell_type": "code",
   "execution_count": 12,
   "id": "982dba2c-74af-4f7a-afdd-22eabd1e0a4c",
   "metadata": {},
   "outputs": [
    {
     "data": {
      "text/plain": [
       "tensor(13990)"
      ]
     },
     "execution_count": 12,
     "metadata": {},
     "output_type": "execute_result"
    }
   ],
   "source": [
    "# whay is the most likely token \n",
    "last_logits = logits[0, -1, :]\n",
    "next_token_id = last_logits.argmax()\n",
    "next_token_id"
   ]
  },
  {
   "cell_type": "code",
   "execution_count": 13,
   "id": "99436ff7-6f18-448c-8cd1-849cef73f5cd",
   "metadata": {},
   "outputs": [
    {
     "data": {
      "text/plain": [
       "' fence'"
      ]
     },
     "execution_count": 13,
     "metadata": {},
     "output_type": "execute_result"
    }
   ],
   "source": [
    "#decoding it\n",
    "tokenizer.decode(next_token_id)"
   ]
  },
  {
   "cell_type": "code",
   "execution_count": 14,
   "id": "befeba6b-a9ee-4efd-8443-8225a0b2058f",
   "metadata": {},
   "outputs": [
    {
     "data": {
      "text/plain": [
       "[' fence',\n",
       " ' edge',\n",
       " ' railing',\n",
       " ' wall',\n",
       " ' table',\n",
       " ' tree',\n",
       " ' top',\n",
       " ' counter',\n",
       " ' ground',\n",
       " ' side']"
      ]
     },
     "execution_count": 14,
     "metadata": {},
     "output_type": "execute_result"
    }
   ],
   "source": [
    "# what were the most likely words:\n",
    "top_k = torch.topk(last_logits, k=10)\n",
    "tokens = [tokenizer.decode(tk) for tk in top_k.indices]\n",
    "tokens"
   ]
  },
  {
   "cell_type": "code",
   "execution_count": 16,
   "id": "0a11afd0-6e1a-44c6-9bc1-f7f13d3a73a9",
   "metadata": {},
   "outputs": [],
   "source": [
    "next_inputs = {\n",
    "    \"input_ids\": torch.cat(\n",
    "        [inputs[\"input_ids\"], next_token_id.reshape((1, 1))],\n",
    "        dim=1\n",
    "    ),\n",
    "    \"attention_mask\": torch.cat(\n",
    "        [inputs[\"attention_mask\"], torch.tensor([[1]])],\n",
    "        dim=1\n",
    "    ),\n",
    "}"
   ]
  },
  {
   "cell_type": "code",
   "execution_count": 17,
   "id": "4421db2d-6f94-4cb0-926d-ff9b4fa917ae",
   "metadata": {},
   "outputs": [
    {
     "name": "stdout",
     "output_type": "stream",
     "text": [
      "tensor([[  464,  2068,  7586, 21831, 11687,   625,   262, 13990]]) torch.Size([1, 8])\n",
      "tensor([[1, 1, 1, 1, 1, 1, 1, 1]]) torch.Size([1, 8])\n"
     ]
    }
   ],
   "source": [
    "print(next_inputs[\"input_ids\"],\n",
    "      next_inputs[\"input_ids\"].shape)\n",
    "print(next_inputs[\"attention_mask\"],\n",
    "      next_inputs[\"attention_mask\"].shape)"
   ]
  },
  {
   "cell_type": "code",
   "execution_count": 18,
   "id": "65032724-5c12-4dc9-bac7-ad0b83fa349f",
   "metadata": {},
   "outputs": [],
   "source": [
    "def generate_token(inputs):\n",
    "    with torch.no_grad():\n",
    "        outputs = model(**inputs)\n",
    "\n",
    "    logits = outputs.logits\n",
    "    last_logits = logits[0, -1, :]\n",
    "    next_token_id = last_logits.argmax()\n",
    "    return next_token_id"
   ]
  },
  {
   "cell_type": "code",
   "execution_count": 19,
   "id": "916b2b8b-f79c-4d13-83f8-524ec5378042",
   "metadata": {},
   "outputs": [
    {
     "name": "stdout",
     "output_type": "stream",
     "text": [
      "0.47855138778686523 s\n",
      "[' fence', ' and', ' ran', ' to', ' the', ' other', ' side', ' of', ' the', ' fence']\n"
     ]
    }
   ],
   "source": [
    "generated_tokens = []\n",
    "next_inputs = inputs\n",
    "durations_s = []\n",
    "for _ in range(10):\n",
    "    t0 = time.time()\n",
    "    next_token_id = generate_token(next_inputs)\n",
    "    durations_s += [time.time() - t0]\n",
    "    \n",
    "    next_inputs = {\n",
    "        \"input_ids\": torch.cat(\n",
    "            [next_inputs[\"input_ids\"], next_token_id.reshape((1, 1))],\n",
    "            dim=1),\n",
    "        \"attention_mask\": torch.cat(\n",
    "            [next_inputs[\"attention_mask\"], torch.tensor([[1]])],\n",
    "            dim=1),\n",
    "    }\n",
    "    \n",
    "    next_token = tokenizer.decode(next_token_id)\n",
    "    generated_tokens.append(next_token)\n",
    "\n",
    "print(f\"{sum(durations_s)} s\")\n",
    "print(generated_tokens)"
   ]
  },
  {
   "cell_type": "code",
   "execution_count": 20,
   "id": "65d97fec-45a7-4c4d-aedf-51eb6d1a3da1",
   "metadata": {},
   "outputs": [
    {
     "data": {
      "image/png": "[encoded data removed]",
      "text/plain": [
       "<Figure size 640x480 with 1 Axes>"
      ]
     },
     "metadata": {},
     "output_type": "display_data"
    }
   ],
   "source": [
    "plt.plot(durations_s)\n",
    "plt.show()"
   ]
  },
  {
   "cell_type": "code",
   "execution_count": 21,
   "id": "fbc703be-4fb4-47af-9e7f-5fccdbe53734",
   "metadata": {},
   "outputs": [],
   "source": [
    "# KV-caching is a technique to speed up token generation by storing some of the tensors in the attention head for use in subsequent generation steps\n",
    "def generate_token_with_past(inputs):\n",
    "    with torch.no_grad():\n",
    "        outputs = model(**inputs)\n",
    "\n",
    "    logits = outputs.logits\n",
    "    last_logits = logits[0, -1, :]\n",
    "    next_token_id = last_logits.argmax()\n",
    "    return next_token_id, outputs.past_key_values"
   ]
  },
  {
   "cell_type": "code",
   "execution_count": 22,
   "id": "63a2a3ca-8d0d-44fa-951f-8fb1e56693dd",
   "metadata": {},
   "outputs": [
    {
     "name": "stdout",
     "output_type": "stream",
     "text": [
      "0.3604891300201416 s\n",
      "[' fence', ' and', ' ran', ' to', ' the', ' other', ' side', ' of', ' the', ' fence']\n"
     ]
    }
   ],
   "source": [
    "generated_tokens = []\n",
    "next_inputs = inputs\n",
    "durations_cached_s = []\n",
    "for _ in range(10):\n",
    "    t0 = time.time()\n",
    "    next_token_id, past_key_values = \\\n",
    "        generate_token_with_past(next_inputs)\n",
    "    durations_cached_s += [time.time() - t0]\n",
    "    \n",
    "    next_inputs = {\n",
    "        \"input_ids\": next_token_id.reshape((1, 1)),\n",
    "        \"attention_mask\": torch.cat(\n",
    "            [next_inputs[\"attention_mask\"], torch.tensor([[1]])],\n",
    "            dim=1),\n",
    "        \"past_key_values\": past_key_values,\n",
    "    }\n",
    "    \n",
    "    next_token = tokenizer.decode(next_token_id)\n",
    "    generated_tokens.append(next_token)\n",
    "\n",
    "print(f\"{sum(durations_cached_s)} s\")\n",
    "print(generated_tokens)"
   ]
  },
  {
   "cell_type": "code",
   "execution_count": 23,
   "id": "7e8d7a96-d5cd-4e81-b3cc-78e6f41d5962",
   "metadata": {},
   "outputs": [
    {
     "data": {
      "image/png": "[encoded data removed]",
      "text/plain": [
       "<Figure size 640x480 with 1 Axes>"
      ]
     },
     "metadata": {},
     "output_type": "display_data"
    }
   ],
   "source": [
    "plt.plot(durations_s)\n",
    "plt.plot(durations_cached_s)\n",
    "plt.show()"
   ]
  },
  {
   "cell_type": "code",
   "execution_count": 25,
   "id": "bc833fcc-c711-402e-847f-a95ad788f6d9",
   "metadata": {},
   "outputs": [
    {
     "name": "stdout",
     "output_type": "stream",
     "text": [
      " fence and ran to the other side of the fence\n"
     ]
    }
   ],
   "source": [
    "def generate(inputs, max_tokens):\n",
    "    generated_tokens = []\n",
    "    next_inputs = inputs\n",
    "    for _ in range(max_tokens):\n",
    "        next_token_id, past_key_values = \\\n",
    "        generate_token_with_past(next_inputs)\n",
    "        next_inputs = {\n",
    "            \"input_ids\": next_token_id.reshape((1, 1)),\n",
    "            \"attention_mask\": torch.cat(\n",
    "                [next_inputs[\"attention_mask\"], torch.tensor([[1]])],\n",
    "                dim=1\n",
    "            ),\n",
    "            \"past_key_values\": past_key_values,\n",
    "        }\n",
    "\n",
    "        next_token = tokenizer.decode(next_token_id)\n",
    "        generated_tokens.append(next_token)\n",
    "    return \"\".join(generated_tokens)\n",
    "\n",
    "\n",
    "tokens = generate(inputs, max_tokens=10)\n",
    "print(tokens)"
   ]
  },
  {
   "cell_type": "code",
   "execution_count": 28,
   "id": "23e6ba6c-414c-49fd-80a2-9752d4659526",
   "metadata": {},
   "outputs": [],
   "source": [
    "# ading padding tokes to the model to prepare batrches of prompts:\n",
    "# Define PAD Token = EOS Token = 50256\n",
    "tokenizer.pad_token = tokenizer.eos_token\n",
    "model.config.pad_token_id = model.config.eos_token_id"
   ]
  },
  {
   "cell_type": "code",
   "execution_count": 29,
   "id": "3873bda5-679a-4d7e-b32b-2612b23b21a0",
   "metadata": {},
   "outputs": [],
   "source": [
    "# pad on the left so we can append new tokens on the right\n",
    "# chosing left or right will depend whether we are doing training or inferance and the model\n",
    "# for inferance this should go on the left since more tokes will be generated on the right\n",
    "tokenizer.padding_side = \"left\"\n",
    "tokenizer.truncation_side = \"left\""
   ]
  },
  {
   "cell_type": "code",
   "execution_count": 30,
   "id": "0257471e-9159-4f7b-94af-d78f72c2b4ca",
   "metadata": {},
   "outputs": [],
   "source": [
    "# multiple prompts of varying lengths to send\n",
    "# to the model at once\n",
    "# Add padding so that all prompts have the same number of tokens as the longest prompt\n",
    "prompts = [\n",
    "    \"The quick brown fox jumped over the\",\n",
    "    \"The rain in Spain falls\",\n",
    "    \"What comes up must\",\n",
    "]\n",
    "\n",
    "# note: padding=True ensures the padding token\n",
    "# will be inserted into the tokenized tensors\n",
    "inputs = tokenizer(prompts, padding=True, return_tensors=\"pt\")"
   ]
  },
  {
   "cell_type": "code",
   "execution_count": 31,
   "id": "9a504e51-c1ab-4ea1-858f-91caba510308",
   "metadata": {},
   "outputs": [
    {
     "name": "stdout",
     "output_type": "stream",
     "text": [
      "input_ids: tensor([[  464,  2068,  7586, 21831, 11687,   625,   262],\n",
      "        [50256, 50256,   464,  6290,   287,  8602,  8953],\n",
      "        [50256, 50256, 50256,  2061,  2058,   510,  1276]])\n",
      "shape: torch.Size([3, 7])\n"
     ]
    }
   ],
   "source": [
    "print(\"input_ids:\", inputs[\"input_ids\"])\n",
    "print(\"shape:\", inputs[\"input_ids\"].shape)"
   ]
  },
  {
   "cell_type": "code",
   "execution_count": null,
   "id": "35fa3e41-66ab-4f64-8317-55bb76cb606f",
   "metadata": {},
   "outputs": [],
   "source": [
    "# shorter sequences have the 50256 wich os the padding"
   ]
  },
  {
   "cell_type": "code",
   "execution_count": 32,
   "id": "8d9a7894-f4f4-47bb-8361-8eb8e3e9a3db",
   "metadata": {},
   "outputs": [
    {
     "name": "stdout",
     "output_type": "stream",
     "text": [
      "attention_mask: tensor([[1, 1, 1, 1, 1, 1, 1],\n",
      "        [0, 0, 1, 1, 1, 1, 1],\n",
      "        [0, 0, 0, 1, 1, 1, 1]])\n",
      "shape: torch.Size([3, 7])\n"
     ]
    }
   ],
   "source": [
    "print(\"attention_mask:\", inputs[\"attention_mask\"])\n",
    "print(\"shape:\", inputs[\"attention_mask\"].shape)"
   ]
  },
  {
   "cell_type": "code",
   "execution_count": 33,
   "id": "039c817d-c864-4caa-a166-950769a793aa",
   "metadata": {},
   "outputs": [],
   "source": [
    "# Add position ids to track original order of tokens in each prompt\n",
    "# Padding tokens are set to 1 and then first real token starts with position 0"
   ]
  },
  {
   "cell_type": "code",
   "execution_count": 34,
   "id": "33b418bf-3870-4bf3-970d-70c906cd97a7",
   "metadata": {},
   "outputs": [
    {
     "data": {
      "text/plain": [
       "tensor([[0, 1, 2, 3, 4, 5, 6],\n",
       "        [1, 1, 0, 1, 2, 3, 4],\n",
       "        [1, 1, 1, 0, 1, 2, 3]])"
      ]
     },
     "execution_count": 34,
     "metadata": {},
     "output_type": "execute_result"
    }
   ],
   "source": [
    "# position_ids tell the transformer the ordinal position\n",
    "# of each token in the input sequence\n",
    "# for single input inference, this is just [0 .. n]\n",
    "# for n tokens, but for batch inference,\n",
    "# we need to 0 out the padding tokens at the start of the sequence\n",
    "attention_mask = inputs[\"attention_mask\"]\n",
    "position_ids = attention_mask.long().cumsum(-1) - 1\n",
    "position_ids.masked_fill_(attention_mask == 0, 1)"
   ]
  },
  {
   "cell_type": "code",
   "execution_count": 36,
   "id": "d98a709a-a217-43b3-9d51-92f28629f905",
   "metadata": {},
   "outputs": [],
   "source": [
    "\n",
    "with torch.no_grad():\n",
    "    outputs = model(position_ids=position_ids, **inputs)\n",
    "logits = outputs.logits"
   ]
  },
  {
   "cell_type": "code",
   "execution_count": 38,
   "id": "c9617368-c518-4949-8de7-c8d4c3bb6ec9",
   "metadata": {},
   "outputs": [
    {
     "name": "stdout",
     "output_type": "stream",
     "text": [
      "tensor([13990,   319,   307])\n"
     ]
    }
   ],
   "source": [
    "last_logits = logits[:, -1, :] \n",
    "next_token_ids = last_logits.argmax(dim=1) \n",
    "print(next_token_ids)"
   ]
  },
  {
   "cell_type": "code",
   "execution_count": 46,
   "id": "07de618d-120d-4bf8-bbd0-ddf787d61743",
   "metadata": {},
   "outputs": [
    {
     "data": {
      "text/plain": [
       "[' fence', ' on', ' be']"
      ]
     },
     "execution_count": 46,
     "metadata": {},
     "output_type": "execute_result"
    }
   ],
   "source": [
    "next_tokens = tokenizer.batch_decode(next_token_ids)\n",
    "next_tokens"
   ]
  },
  {
   "cell_type": "code",
   "execution_count": 39,
   "id": "cf6372a8-6dc9-48ba-821c-1cba4cd2772b",
   "metadata": {},
   "outputs": [],
   "source": [
    "def generate_batch_tokens_with_past(inputs):\n",
    "    with torch.no_grad():\n",
    "        outputs = model(**inputs)\n",
    "\n",
    "    logits = outputs.logits\n",
    "    last_logits = logits[:, -1, :]\n",
    "    next_token_ids = last_logits.argmax(dim=1)\n",
    "    return next_token_ids, outputs.past_key_values"
   ]
  },
  {
   "cell_type": "code",
   "execution_count": 40,
   "id": "2e2471a8-e465-4da7-b2dc-c2b3f965412f",
   "metadata": {},
   "outputs": [],
   "source": [
    "def generate_batch(inputs, max_tokens):\n",
    "    # create a list of tokens for every input in the batch\n",
    "    generated_tokens = [\n",
    "        [] for _ in range(inputs[\"input_ids\"].shape[0])\n",
    "    ]\n",
    "\n",
    "    attention_mask = inputs[\"attention_mask\"]\n",
    "    position_ids = attention_mask.long().cumsum(-1) - 1\n",
    "    position_ids.masked_fill_(attention_mask == 0, 1)\n",
    "\n",
    "    next_inputs = {\n",
    "        \"position_ids\": position_ids,\n",
    "        **inputs\n",
    "    }\n",
    "\n",
    "    for _ in range(max_tokens):\n",
    "        next_token_ids, past_key_values = \\\n",
    "            generate_batch_tokens_with_past(next_inputs)\n",
    "\n",
    "        next_inputs = {\n",
    "            \"input_ids\": next_token_ids.reshape((-1, 1)),\n",
    "            \"position_ids\": next_inputs[\"position_ids\"][:, -1].unsqueeze(-1) + 1,\n",
    "            \"attention_mask\": torch.cat([\n",
    "                next_inputs[\"attention_mask\"],\n",
    "                torch.ones((next_token_ids.shape[0], 1)),  \n",
    "            ], dim=1),\n",
    "            \"past_key_values\": past_key_values,\n",
    "        }\n",
    "\n",
    "        next_tokens = tokenizer.batch_decode(next_token_ids)\n",
    "        for i, token in enumerate(next_tokens):\n",
    "            generated_tokens[i].append(token)\n",
    "    return [\"\".join(tokens) for tokens in generated_tokens]"
   ]
  },
  {
   "cell_type": "code",
   "execution_count": 41,
   "id": "b43ebc03-2bc6-43ca-8ece-4eda038a36bd",
   "metadata": {},
   "outputs": [],
   "source": [
    "generated_tokens = generate_batch(inputs, max_tokens=10)"
   ]
  },
  {
   "cell_type": "code",
   "execution_count": 42,
   "id": "cc216861-6eba-4ae1-8f01-e355bac2a52f",
   "metadata": {},
   "outputs": [
    {
     "name": "stdout",
     "output_type": "stream",
     "text": [
      "The quick brown fox jumped over the \u001b[31m fence and ran to the other side of the fence\u001b[0m\n",
      "\n",
      "The rain in Spain falls \u001b[31m on the first day of the month, and the\u001b[0m\n",
      "\n",
      "What comes up must \u001b[31m be a good idea.\n",
      "\n",
      "\"I think\u001b[0m\n",
      "\n"
     ]
    }
   ],
   "source": [
    "for prompt, generated in zip(prompts, generated_tokens):\n",
    "    print(prompt, f\"\\x1b[31m{generated}\\x1b[0m\\n\")"
   ]
  },
  {
   "cell_type": "code",
   "execution_count": 43,
   "id": "ee3e8302-cf88-4681-b8c6-a80c78688b2e",
   "metadata": {},
   "outputs": [
    {
     "name": "stdout",
     "output_type": "stream",
     "text": [
      "bs= 1\n",
      "duration 0.3340027332305908\n",
      "throughput 29.939874752749823\n",
      "avg latency 0.03340027332305908\n",
      "\n",
      "bs= 2\n",
      "duration 0.383563756942749\n",
      "throughput 52.14256988046244\n",
      "avg latency 0.0383563756942749\n",
      "\n",
      "bs= 4\n",
      "duration 0.3822662830352783\n",
      "throughput 104.63910047831372\n",
      "avg latency 0.03822662830352783\n",
      "\n",
      "bs= 8\n",
      "duration 0.45768308639526367\n",
      "throughput 174.79343759474324\n",
      "avg latency 0.04576830863952637\n",
      "\n",
      "bs= 16\n",
      "duration 0.533837080001831\n",
      "throughput 299.7169098846622\n",
      "avg latency 0.053383708000183105\n",
      "\n",
      "bs= 32\n",
      "duration 0.6851933002471924\n",
      "throughput 467.0214958093663\n",
      "avg latency 0.06851933002471924\n",
      "\n",
      "bs= 64\n",
      "duration 1.033599853515625\n",
      "throughput 619.1951341935103\n",
      "avg latency 0.1033599853515625\n",
      "\n",
      "bs= 128\n",
      "duration 1.88118577003479\n",
      "throughput 680.4219021794579\n",
      "avg latency 0.188118577003479\n",
      "\n"
     ]
    }
   ],
   "source": [
    "# constants\n",
    "max_tokens = 10\n",
    "\n",
    "# observations\n",
    "durations = []\n",
    "throughputs = []\n",
    "latencies = []\n",
    "\n",
    "batch_sizes = [2**p for p in range(8)]\n",
    "for batch_size in batch_sizes:\n",
    "    print(f\"bs= {batch_size}\")\n",
    "\n",
    "    # generate tokens for batch and record duration\n",
    "    t0 = time.time()\n",
    "    batch_prompts = [\n",
    "        prompts[i % len(prompts)] for i in range(batch_size)\n",
    "    ]\n",
    "    inputs = tokenizer(\n",
    "        batch_prompts, padding=True, return_tensors=\"pt\"\n",
    "    )\n",
    "    generated_tokens = generate_batch(inputs, max_tokens=max_tokens)\n",
    "    duration_s = time.time() - t0\n",
    "\n",
    "    ntokens = batch_size * max_tokens\n",
    "    throughput = ntokens / duration_s\n",
    "    avg_latency = duration_s / max_tokens\n",
    "    print(\"duration\", duration_s)\n",
    "    print(\"throughput\", throughput)\n",
    "    print(\"avg latency\", avg_latency)    \n",
    "    print()\n",
    "\n",
    "    durations.append(duration_s)\n",
    "    throughputs.append(throughput)\n",
    "    latencies.append(avg_latency)"
   ]
  },
  {
   "cell_type": "code",
   "execution_count": 44,
   "id": "15d5c183-adf7-4d9e-a1e5-b5036c355a9c",
   "metadata": {},
   "outputs": [],
   "source": [
    "def render_plot(x, y1, y2, x_label, y1_label, y2_label):\n",
    "    # Create a figure and a set of subplots\n",
    "    fig, ax1 = plt.subplots()\n",
    "\n",
    "    # Plot the first line (throughput)\n",
    "    color = 'tab:red'\n",
    "    ax1.set_xlabel(x_label)\n",
    "    ax1.set_ylabel(y1_label, color=color)\n",
    "    ax1.plot(x, y1, color=color)\n",
    "    ax1.tick_params(axis='y', labelcolor=color)\n",
    "\n",
    "    # Set the x-axis to be log-scaled\n",
    "    ax1.set_xscale('log', base=2)\n",
    "\n",
    "    # Instantiate a second axes that shares the same x-axis\n",
    "    ax2 = ax1.twinx()  \n",
    "    color = 'tab:blue'\n",
    "    ax2.set_ylabel(y2_label, color=color)  # we already handled the x-label with ax1\n",
    "    ax2.plot(x, y2, color=color)\n",
    "    ax2.tick_params(axis='y', labelcolor=color)\n",
    "\n",
    "    plt.show()"
   ]
  },
  {
   "cell_type": "code",
   "execution_count": 45,
   "id": "53d170db-1bf3-4aff-9876-1a9bd39d08ac",
   "metadata": {},
   "outputs": [
    {
     "data": {
      "image/png": "[encoded data removed]",
      "text/plain": [
       "<Figure size 640x480 with 2 Axes>"
      ]
     },
     "metadata": {},
     "output_type": "display_data"
    }
   ],
   "source": [
    "render_plot(\n",
    "    batch_sizes,\n",
    "    throughputs,\n",
    "    latencies,\n",
    "    \"Batch Size\",\n",
    "    \"Throughput\",\n",
    "    \"Latency\"\n",
    ")"
   ]
  },
  {
   "cell_type": "code",
   "execution_count": 51,
   "id": "3c3665d4-0b2b-4e29-af49-a32735521c9d",
   "metadata": {},
   "outputs": [],
   "source": [
    "# seed the random number generator so our results are deterministic\n",
    "import random\n",
    "random.seed(42)\n",
    "\n",
    "# constants\n",
    "queue_size = 32\n",
    "batch_size = 8\n",
    "\n",
    "# requests waiting to be processed\n",
    "# requests are tuples (prompt, max_tokens)\n",
    "request_queue = [\n",
    "    (prompts[0], 100 if i % batch_size == 0 else 10)\n",
    "    for i in range(queue_size)\n",
    "]"
   ]
  },
  {
   "cell_type": "code",
   "execution_count": 52,
   "id": "4e53e10a-86b8-4131-8bf1-81e539045268",
   "metadata": {},
   "outputs": [
    {
     "data": {
      "text/plain": [
       "[('The quick brown fox jumped over the', 100),\n",
       " ('The quick brown fox jumped over the', 10),\n",
       " ('The quick brown fox jumped over the', 10),\n",
       " ('The quick brown fox jumped over the', 10),\n",
       " ('The quick brown fox jumped over the', 10),\n",
       " ('The quick brown fox jumped over the', 10),\n",
       " ('The quick brown fox jumped over the', 10),\n",
       " ('The quick brown fox jumped over the', 10)]"
      ]
     },
     "execution_count": 52,
     "metadata": {},
     "output_type": "execute_result"
    }
   ],
   "source": [
    "request_queue[:8]"
   ]
  },
  {
   "cell_type": "code",
   "execution_count": 53,
   "id": "16a3b291-ffaa-4c1b-a734-9dcd557a6e02",
   "metadata": {},
   "outputs": [],
   "source": [
    "batches = [\n",
    "    request_queue[i:i + batch_size]\n",
    "    for i in range(0, len(request_queue), batch_size)\n",
    "]"
   ]
  },
  {
   "cell_type": "code",
   "execution_count": 54,
   "id": "cfc4c606-5626-47a7-9130-e90dca147636",
   "metadata": {},
   "outputs": [
    {
     "data": {
      "text/plain": [
       "4"
      ]
     },
     "execution_count": 54,
     "metadata": {},
     "output_type": "execute_result"
    }
   ],
   "source": [
    "len(batches)"
   ]
  },
  {
   "cell_type": "code",
   "execution_count": 55,
   "id": "3a484db3-15d5-4f84-9a8a-5c7c7be9a40e",
   "metadata": {},
   "outputs": [
    {
     "data": {
      "text/plain": [
       "[('The quick brown fox jumped over the', 100),\n",
       " ('The quick brown fox jumped over the', 10),\n",
       " ('The quick brown fox jumped over the', 10),\n",
       " ('The quick brown fox jumped over the', 10),\n",
       " ('The quick brown fox jumped over the', 10),\n",
       " ('The quick brown fox jumped over the', 10),\n",
       " ('The quick brown fox jumped over the', 10),\n",
       " ('The quick brown fox jumped over the', 10)]"
      ]
     },
     "execution_count": 55,
     "metadata": {},
     "output_type": "execute_result"
    }
   ],
   "source": [
    "batches[0]"
   ]
  },
  {
   "cell_type": "code",
   "execution_count": 56,
   "id": "d8ab847a-567e-4b54-ad8e-1e9440fce412",
   "metadata": {},
   "outputs": [
    {
     "name": "stderr",
     "output_type": "stream",
     "text": [
      "bs=8: 100%|███████████████████████████████████████████████████████████████████████████████████████████████████████| 4/4 [00:19<00:00,  4.93s/it, max_tokens=100]"
     ]
    },
    {
     "name": "stdout",
     "output_type": "stream",
     "text": [
      "duration 19.712871313095093\n"
     ]
    },
    {
     "name": "stderr",
     "output_type": "stream",
     "text": [
      "\n"
     ]
    }
   ],
   "source": [
    "# generate tokens for all batches and record duration\n",
    "t0 = time.time()\n",
    "with tqdm(total=len(batches), desc=f\"bs={batch_size}\") as pbar:\n",
    "    for i, batch in enumerate(batches):\n",
    "        # to accommodate all the requests with our \n",
    "        # current implementation, we take the max of\n",
    "        # all the tokens to generate among the requests\n",
    "        batch_max_tokens = [b[1] for b in batch]\n",
    "        max_tokens = max(batch_max_tokens)\n",
    "        pbar.set_postfix({'max_tokens': max_tokens})\n",
    "        \n",
    "        batch_prompts = [b[0] for b in batch]\n",
    "        inputs = tokenizer(\n",
    "            batch_prompts, padding=True, return_tensors=\"pt\")\n",
    "        generate_batch(inputs, max_tokens=max_tokens)\n",
    "        \n",
    "        pbar.update(1)\n",
    "\n",
    "duration_s = time.time() - t0\n",
    "print(\"duration\", duration_s)"
   ]
  },
  {
   "cell_type": "code",
   "execution_count": 57,
   "id": "fb25759d-693e-4dc1-bccc-e356e0323f4b",
   "metadata": {},
   "outputs": [],
   "source": [
    "# This time, rather than processing each batch to completion, you will use continuous batching to dynamically swap in and out inputs from the queue."
   ]
  },
  {
   "cell_type": "code",
   "execution_count": 64,
   "id": "e44b2e14-f5ee-40d2-9afd-95147e490684",
   "metadata": {},
   "outputs": [],
   "source": [
    "## helper functions\n",
    "def get_next_inputs(batch, next_token_ids, past_key_values, next_tokens):\n",
    "    return {\n",
    "        # '-1' here means the remaining elements for this dim\n",
    "        \"input_ids\": next_token_ids.reshape((-1, 1)),\n",
    "        # increment last, discard the rest\n",
    "        \"position_ids\": batch[\"position_ids\"][:, -1].unsqueeze(-1) + 1,\n",
    "        # concatenate vector of 1's with shape [batch_size]\n",
    "        \"attention_mask\": torch.cat([\n",
    "            batch[\"attention_mask\"],\n",
    "            torch.ones((next_token_ids.shape[0], 1)),  \n",
    "        ], dim=1),\n",
    "        \"past_key_values\": past_key_values,\n",
    "        \"responses\": [\n",
    "            r1 + r2 for r1, r2 \n",
    "            in zip(batch[\"responses\"], next_tokens)],\n",
    "        \"tokens_remaining\": [\n",
    "            v - 1 for v in batch[\"tokens_remaining\"]],\n",
    "    }\n",
    "\n",
    "\n",
    "def init_batch(requests):\n",
    "    prompts = [r[0] for r in requests]\n",
    "    inputs = tokenizer(prompts, padding=True, return_tensors=\"pt\")\n",
    "    \n",
    "    attention_mask = inputs[\"attention_mask\"]\n",
    "    position_ids = attention_mask.long().cumsum(-1) - 1\n",
    "    position_ids.masked_fill_(attention_mask == 0, 1)\n",
    "    \n",
    "    return {\n",
    "        \"position_ids\": position_ids,\n",
    "        \"responses\": copy.copy(prompts),\n",
    "        \"tokens_remaining\": [r[1] for r in requests],\n",
    "        **inputs\n",
    "    }\n",
    "\n",
    "\n",
    "def generate_next_token(batch):\n",
    "    inputs = copy.copy(batch)\n",
    "    inputs.pop(\"responses\")\n",
    "    inputs.pop(\"tokens_remaining\")\n",
    "    \n",
    "    next_token_ids, past_key_values = \\\n",
    "        generate_batch_tokens_with_past(inputs)\n",
    "    next_tokens = tokenizer.batch_decode(next_token_ids)\n",
    "    return get_next_inputs(\n",
    "        batch, next_token_ids, past_key_values, next_tokens)\n",
    "\n",
    "\n",
    "def merge_batches(batch1, batch2):\n",
    "    # first find the max sequence length of the two batches\n",
    "    # this can be obtained from the second dimension \n",
    "    # of the attention mask\n",
    "    attn_mask1 = batch1[\"attention_mask\"]\n",
    "    attn_mask2 = batch2[\"attention_mask\"]\n",
    "    max_seq_len = max(attn_mask1.shape[1], attn_mask2.shape[1])\n",
    "    \n",
    "    # pad each mask (on the left) to the max sequence length\n",
    "    # attention mask uses 0 for padding\n",
    "    padding1 = max_seq_len - attn_mask1.shape[1]\n",
    "    padding2 = max_seq_len - attn_mask2.shape[1]\n",
    "    attn_mask1 = F.pad(attn_mask1, (padding1, 0), \"constant\", 0)\n",
    "    attn_mask2 = F.pad(attn_mask2, (padding2, 0), \"constant\", 0)\n",
    "    \n",
    "    # because we only append batches post decoding, \n",
    "    # we don't need to pad input_ids\n",
    "    # or position_ids. these are always length 1 \n",
    "    # in the sequence dimension\n",
    "    # however, we do need to pad the \n",
    "    # past_key_values, which have shape:\n",
    "    # [batch_size, num_heads, sequence_length, head_dim]\n",
    "    past_kv1 = batch1[\"past_key_values\"]\n",
    "    past_kv2 = batch2[\"past_key_values\"]\n",
    "    \n",
    "    padded_kv1 = []\n",
    "    for i in range(len(past_kv1)):\n",
    "        k, v = past_kv1[i]\n",
    "        k = F.pad(k, (0, 0, padding1, 0), \"constant\", 0)\n",
    "        v = F.pad(v, (0, 0, padding1, 0), \"constant\", 0)     \n",
    "        padded_kv1.append((k, v))\n",
    "    \n",
    "    padded_kv2 = []\n",
    "    for i in range(len(past_kv2)):\n",
    "        k, v = past_kv2[i]\n",
    "        k = F.pad(k, (0, 0, padding2, 0), \"constant\", 0)\n",
    "        v = F.pad(v, (0, 0, padding2, 0), \"constant\", 0)     \n",
    "        padded_kv2.append((k, v))\n",
    "        \n",
    "    # now that everything has been padded to have\n",
    "    # consistent shapes, let's merge\n",
    "    input_ids = torch.concat(\n",
    "        [batch1[\"input_ids\"], batch2[\"input_ids\"]], dim=0)\n",
    "    position_ids = torch.concat(\n",
    "        [batch1[\"position_ids\"], batch2[\"position_ids\"]], dim=0) \n",
    "    attn_mask = torch.concat([attn_mask1, attn_mask2], dim=0)\n",
    "    \n",
    "    past_kv = []\n",
    "    for i in range(len(padded_kv1)):\n",
    "        k1, v1 = padded_kv1[i]\n",
    "        k2, v2 = padded_kv2[i]\n",
    "        k = torch.concat([k1, k2], dim=0)\n",
    "        v = torch.concat([v1, v2], dim=0)\n",
    "        past_kv.append((k, v))\n",
    "    \n",
    "    return {\n",
    "        \"input_ids\": input_ids,\n",
    "        \"position_ids\": position_ids,\n",
    "        \"attention_mask\": attn_mask,\n",
    "        \"past_key_values\": past_kv,\n",
    "        \"responses\": batch1[\"responses\"] + batch2[\"responses\"],\n",
    "        \"tokens_remaining\": batch1[\"tokens_remaining\"] + batch2[\"tokens_remaining\"],\n",
    "    }\n",
    "\n",
    "\n",
    "def filter_batch(batch):\n",
    "    # mark all rows with 0 tokens remaining for removal\n",
    "    remove_indices = []\n",
    "    for i, tokens_remaining in enumerate(batch[\"tokens_remaining\"]):\n",
    "        if tokens_remaining <= 0:\n",
    "            remove_indices.append(i)\n",
    "    \n",
    "    # first, define a mask used to subselect the indices to keep\n",
    "    # from each tensor, given the indices to remove\n",
    "    batch_size = batch[\"input_ids\"].size(0)\n",
    "    mask = torch.ones(batch_size, dtype=torch.bool)\n",
    "    mask[remove_indices] = False\n",
    "\n",
    "    # index into the tensors using the mask to remove rows\n",
    "    input_ids = batch[\"input_ids\"][mask]\n",
    "    position_ids = batch[\"position_ids\"][mask]\n",
    "    attention_mask = batch[\"attention_mask\"][mask]\n",
    "    responses = [\n",
    "        r \n",
    "        for i, r in enumerate(batch[\"responses\"])\n",
    "        if i not in remove_indices\n",
    "    ]\n",
    "    tokens_remaining = [\n",
    "        v \n",
    "        for i, v in enumerate(batch[\"tokens_remaining\"])\n",
    "        if i not in remove_indices\n",
    "    ]\n",
    "\n",
    "    past_key_values = batch[\"past_key_values\"]\n",
    "    new_past_key_values = []\n",
    "    for i in range(len(past_key_values)):\n",
    "        k, v = past_key_values[i]\n",
    "        k = k[mask]\n",
    "        v = v[mask]\n",
    "        new_past_key_values.append((k, v))\n",
    "    past_key_values = new_past_key_values\n",
    "    \n",
    "    if input_ids.size(0) > 0:\n",
    "        # next, as an optimization to avoid wasting \n",
    "        # compute cycles on padding tokens,\n",
    "        # we will left truncate the attention_mask \n",
    "        # and past_key_values to the longest\n",
    "        # remaining sequence length\n",
    "        # we obtain the longest sequence length by \n",
    "        # looking for the min first non-zero index\n",
    "        # of the attention mask\n",
    "        # cumprod ensures we stop accumulating when we see a 1\n",
    "        zero_mask = attention_mask == 0\n",
    "        cumprod = zero_mask.cumprod(dim=1)  \n",
    "        leading_zeros_count = cumprod.sum(dim=1)\n",
    "        min_leading_zeros = torch.min(leading_zeros_count)\n",
    "        truncation_offset = min_leading_zeros.item()\n",
    "\n",
    "        # do the trunction\n",
    "        attention_mask = attention_mask[:, truncation_offset:]\n",
    "        past_key_values = past_key_values\n",
    "        new_past_key_values = []\n",
    "        for i in range(len(past_key_values)):\n",
    "            k, v = past_key_values[i]\n",
    "            k = k[:, :, truncation_offset:, :]\n",
    "            v = v[:, :, truncation_offset:, :]\n",
    "            new_past_key_values.append((k, v))\n",
    "        past_key_values = new_past_key_values\n",
    "    \n",
    "    # return the new batch\n",
    "    return {\n",
    "        \"input_ids\": input_ids,\n",
    "        \"position_ids\": position_ids,\n",
    "        \"attention_mask\": attention_mask,\n",
    "        \"past_key_values\": past_key_values,\n",
    "        \"responses\": responses,\n",
    "        \"tokens_remaining\": tokens_remaining,\n",
    "    }, remove_indices\n",
    "\n",
    "\n",
    "def generate_batch_tokens_with_past(inputs):\n",
    "    with torch.no_grad():\n",
    "        outputs = model(**inputs)\n",
    "\n",
    "    logits = outputs.logits\n",
    "    last_logits = logits[:, -1, :]\n",
    "    next_token_ids = last_logits.argmax(dim=1)\n",
    "    return next_token_ids, outputs.past_key_values\n",
    "\n",
    "\n"
   ]
  },
  {
   "cell_type": "code",
   "execution_count": 65,
   "id": "1d9915f1-f7ae-4f79-8c25-6890f45235f1",
   "metadata": {},
   "outputs": [
    {
     "name": "stderr",
     "output_type": "stream",
     "text": [
      "bs=8: 100%|█████████████████████████████████████████████████████████████████████████████████████████████████████████████████████| 32/32 [00:06<00:00,  4.97it/s]"
     ]
    },
    {
     "name": "stdout",
     "output_type": "stream",
     "text": [
      "duration 6.444674968719482\n"
     ]
    },
    {
     "name": "stderr",
     "output_type": "stream",
     "text": [
      "\n"
     ]
    }
   ],
   "source": [
    "# seed the random number generator so our results are deterministic\n",
    "random.seed(42)\n",
    "\n",
    "# constants\n",
    "queue_size = 32\n",
    "batch_size = 8\n",
    "\n",
    "# requests waiting to be processed\n",
    "# this time requests are tuples (prompt, max_tokens)\n",
    "request_queue = [\n",
    "    (prompts[0], 100 if i % batch_size == 0 else 10)\n",
    "    for i in range(queue_size)\n",
    "]\n",
    "\n",
    "t0 = time.time()\n",
    "with tqdm(total=len(request_queue), desc=f\"bs={batch_size}\") as pbar:\n",
    "    # first, let's seed the initial cached_batch\n",
    "    # with the first `batch_size` inputs\n",
    "    # and run the initial prefill step\n",
    "    batch = init_batch(request_queue[:batch_size])\n",
    "    cached_batch = generate_next_token(batch)\n",
    "    request_queue = request_queue[batch_size:]\n",
    "\n",
    "    # continue until both the request queue is \n",
    "    # fully drained and every input\n",
    "    # within the cached_batch has completed generation\n",
    "    while (\n",
    "        len(request_queue) > 0 or\n",
    "        cached_batch[\"input_ids\"].size(0) > 0\n",
    "    ):\n",
    "        batch_capacity = (\n",
    "            batch_size - cached_batch[\"input_ids\"].size(0)\n",
    "        )\n",
    "        if batch_capacity > 0 and len(request_queue) > 0:\n",
    "            # prefill\n",
    "            new_batch = init_batch(request_queue[:batch_capacity])\n",
    "            new_batch = generate_next_token(new_batch)\n",
    "            request_queue = request_queue[batch_capacity:]\n",
    "\n",
    "            # merge\n",
    "            cached_batch = merge_batches(cached_batch, new_batch)\n",
    "\n",
    "        # decode\n",
    "        cached_batch = generate_next_token(cached_batch)\n",
    "\n",
    "        # remove any inputs that have finished generation\n",
    "        cached_batch, removed_indices = filter_batch(cached_batch)\n",
    "        pbar.update(len(removed_indices))\n",
    "\n",
    "duration_s = time.time() - t0\n",
    "print(\"duration\", duration_s)"
   ]
  },
  {
   "cell_type": "code",
   "execution_count": null,
   "id": "df76393f-bc61-4bb7-b668-4b1781e0182a",
   "metadata": {},
   "outputs": [],
   "source": []
  }
 ],
 "metadata": {
  "kernelspec": {
   "display_name": "Python 3 (ipykernel)",
   "language": "python",
   "name": "python3"
  },
  "language_info": {
   "codemirror_mode": {
    "name": "ipython",
    "version": 3
   },
   "file_extension": ".py",
   "mimetype": "text/x-python",
   "name": "python",
   "nbconvert_exporter": "python",
   "pygments_lexer": "ipython3",
   "version": "3.11.9"
  }
 },
 "nbformat": 4,
 "nbformat_minor": 5
}
